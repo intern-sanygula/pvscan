{
 "cells": [
  {
   "cell_type": "code",
   "execution_count": 1,
   "id": "3e57526e",
   "metadata": {},
   "outputs": [],
   "source": [
    "import pandas as pd\n",
    "import numpy as np\n",
    "from sklearn.feature_extraction.text import TfidfVectorizer\n",
    "from sklearn.model_selection import train_test_split\n",
    "from sklearn.multiclass import OneVsRestClassifier\n",
    "\n",
    "import string\n",
    "from nltk.corpus import stopwords \n",
    "from nltk.tokenize import RegexpTokenizer \n",
    "from nltk.stem import WordNetLemmatizer"
   ]
  },
  {
   "cell_type": "code",
   "execution_count": 2,
   "id": "1ef8cb54",
   "metadata": {},
   "outputs": [
    {
     "data": {
      "text/html": [
       "<div>\n",
       "<style scoped>\n",
       "    .dataframe tbody tr th:only-of-type {\n",
       "        vertical-align: middle;\n",
       "    }\n",
       "\n",
       "    .dataframe tbody tr th {\n",
       "        vertical-align: top;\n",
       "    }\n",
       "\n",
       "    .dataframe thead th {\n",
       "        text-align: right;\n",
       "    }\n",
       "</style>\n",
       "<table border=\"1\" class=\"dataframe\">\n",
       "  <thead>\n",
       "    <tr style=\"text-align: right;\">\n",
       "      <th></th>\n",
       "      <th>Text_Data</th>\n",
       "      <th>Category</th>\n",
       "    </tr>\n",
       "  </thead>\n",
       "  <tbody>\n",
       "    <tr>\n",
       "      <th>0</th>\n",
       "      <td>000 0001364 00000000 001 001 01364 INS: 0 0 Pl...</td>\n",
       "      <td>invoices</td>\n",
       "    </tr>\n",
       "    <tr>\n",
       "      <th>1</th>\n",
       "      <td>€/@ LES000 Account number 83141467 Page 2 of 4...</td>\n",
       "      <td>invoices</td>\n",
       "    </tr>\n",
       "    <tr>\n",
       "      <th>2</th>\n",
       "      <td>i“ CITY OF SEATTLE Seattle Public Utilities Bi...</td>\n",
       "      <td>invoices</td>\n",
       "    </tr>\n",
       "    <tr>\n",
       "      <th>3</th>\n",
       "      <td>account number  due date  amount due  39779 -4...</td>\n",
       "      <td>invoices</td>\n",
       "    </tr>\n",
       "    <tr>\n",
       "      <th>4</th>\n",
       "      <td>account r,umbe'r  ouf oatł  amount due  39782 ...</td>\n",
       "      <td>invoices</td>\n",
       "    </tr>\n",
       "  </tbody>\n",
       "</table>\n",
       "</div>"
      ],
      "text/plain": [
       "                                           Text_Data  Category\n",
       "0  000 0001364 00000000 001 001 01364 INS: 0 0 Pl...  invoices\n",
       "1  €/@ LES000 Account number 83141467 Page 2 of 4...  invoices\n",
       "2  i“ CITY OF SEATTLE Seattle Public Utilities Bi...  invoices\n",
       "3  account number  due date  amount due  39779 -4...  invoices\n",
       "4  account r,umbe'r  ouf oatł  amount due  39782 ...  invoices"
      ]
     },
     "execution_count": 2,
     "metadata": {},
     "output_type": "execute_result"
    }
   ],
   "source": [
    "df = pd.read_csv('6.csv')\n",
    "df.drop(\"Unnamed: 0\", inplace = True, axis = 1)\n",
    "df.head()"
   ]
  },
  {
   "cell_type": "code",
   "execution_count": 3,
   "id": "04926152",
   "metadata": {},
   "outputs": [],
   "source": [
    "df = df.dropna()"
   ]
  },
  {
   "cell_type": "code",
   "execution_count": 4,
   "id": "5ba1b3cc",
   "metadata": {},
   "outputs": [
    {
     "name": "stderr",
     "output_type": "stream",
     "text": [
      "C:\\Users\\SANYAM\\AppData\\Local\\Temp/ipykernel_13868/3588151574.py:2: FutureWarning: The default value of regex will change from True to False in a future version.\n",
      "  df['Text_Data'] = df['Text_Data'].str.replace('[^\\w\\s]','') # getting rid of special characters\n",
      "C:\\Users\\SANYAM\\AppData\\Local\\Temp/ipykernel_13868/3588151574.py:3: FutureWarning: The default value of regex will change from True to False in a future version.\n",
      "  df['Text_Data'] = df['Text_Data'].str.replace('\\d+', '') # removing numeric values from between the words\n"
     ]
    }
   ],
   "source": [
    "\n",
    "df['Text_Data'] = df['Text_Data'].apply(lambda x: \" \".join(x.lower() for x in x.split())) # lower case conversion\n",
    "df['Text_Data'] = df['Text_Data'].str.replace('[^\\w\\s]','') # getting rid of special characters\n",
    "df['Text_Data'] = df['Text_Data'].str.replace('\\d+', '') # removing numeric values from between the words\n",
    "df['Text_Data'] = df['Text_Data'].apply(lambda x: x.translate(string.digits)) # removing numerical numbers\n",
    "stop = stopwords.words('english')\n",
    "df['Text_Data'] = df['Text_Data'].apply(lambda x: \" \".join(x for x in str(x).split() if x not in stop)) #removing stop words\n",
    "stemmer = WordNetLemmatizer()\n",
    "df['Text_Data'] = [stemmer.lemmatize(word) for word in df['Text_Data']] #converting words to their dictionary form\n",
    "df['Text_Data'] = df['Text_Data'].str.replace('shall', '')"
   ]
  },
  {
   "cell_type": "code",
   "execution_count": 5,
   "id": "435cdc9b",
   "metadata": {},
   "outputs": [
    {
     "data": {
      "text/html": [
       "<div>\n",
       "<style scoped>\n",
       "    .dataframe tbody tr th:only-of-type {\n",
       "        vertical-align: middle;\n",
       "    }\n",
       "\n",
       "    .dataframe tbody tr th {\n",
       "        vertical-align: top;\n",
       "    }\n",
       "\n",
       "    .dataframe thead th {\n",
       "        text-align: right;\n",
       "    }\n",
       "</style>\n",
       "<table border=\"1\" class=\"dataframe\">\n",
       "  <thead>\n",
       "    <tr style=\"text-align: right;\">\n",
       "      <th></th>\n",
       "      <th>Text_Data</th>\n",
       "      <th>Category</th>\n",
       "    </tr>\n",
       "  </thead>\n",
       "  <tbody>\n",
       "    <tr>\n",
       "      <th>0</th>\n",
       "      <td>ins please post payment avidxchange inc reserv...</td>\n",
       "      <td>invoices</td>\n",
       "    </tr>\n",
       "    <tr>\n",
       "      <th>1</th>\n",
       "      <td>les account number page philadelphia insurance...</td>\n",
       "      <td>invoices</td>\n",
       "    </tr>\n",
       "    <tr>\n",
       "      <th>2</th>\n",
       "      <td>city seattle seattle public utilities bill _ p...</td>\n",
       "      <td>invoices</td>\n",
       "    </tr>\n",
       "    <tr>\n",
       "      <th>3</th>\n",
       "      <td>account number due date amount due name parkha...</td>\n",
       "      <td>invoices</td>\n",
       "    </tr>\n",
       "    <tr>\n",
       "      <th>4</th>\n",
       "      <td>account rumber ouf oatł amount due meter previ...</td>\n",
       "      <td>invoices</td>\n",
       "    </tr>\n",
       "    <tr>\n",
       "      <th>...</th>\n",
       "      <td>...</td>\n",
       "      <td>...</td>\n",
       "    </tr>\n",
       "    <tr>\n",
       "      <th>138</th>\n",
       "      <td>ges x old republic onzun x w gowe street suite...</td>\n",
       "      <td>other</td>\n",
       "    </tr>\n",
       "    <tr>\n",
       "      <th>139</th>\n",
       "      <td>dear valued customer thank patience aswe conti...</td>\n",
       "      <td>other</td>\n",
       "    </tr>\n",
       "    <tr>\n",
       "      <th>140</th>\n",
       "      <td>sammamish plateau water lameness main fax wwws...</td>\n",
       "      <td>other</td>\n",
       "    </tr>\n",
       "    <tr>\n",
       "      <th>141</th>\n",
       "      <td>sammamish plateau water oe main fax wwwspwater...</td>\n",
       "      <td>other</td>\n",
       "    </tr>\n",
       "    <tr>\n",
       "      <th>142</th>\n",
       "      <td>middleoak mc ascourts middletown connecticut b...</td>\n",
       "      <td>other</td>\n",
       "    </tr>\n",
       "  </tbody>\n",
       "</table>\n",
       "<p>141 rows × 2 columns</p>\n",
       "</div>"
      ],
      "text/plain": [
       "                                             Text_Data  Category\n",
       "0    ins please post payment avidxchange inc reserv...  invoices\n",
       "1    les account number page philadelphia insurance...  invoices\n",
       "2    city seattle seattle public utilities bill _ p...  invoices\n",
       "3    account number due date amount due name parkha...  invoices\n",
       "4    account rumber ouf oatł amount due meter previ...  invoices\n",
       "..                                                 ...       ...\n",
       "138  ges x old republic onzun x w gowe street suite...     other\n",
       "139  dear valued customer thank patience aswe conti...     other\n",
       "140  sammamish plateau water lameness main fax wwws...     other\n",
       "141  sammamish plateau water oe main fax wwwspwater...     other\n",
       "142  middleoak mc ascourts middletown connecticut b...     other\n",
       "\n",
       "[141 rows x 2 columns]"
      ]
     },
     "execution_count": 5,
     "metadata": {},
     "output_type": "execute_result"
    }
   ],
   "source": [
    "df"
   ]
  },
  {
   "cell_type": "code",
   "execution_count": 6,
   "id": "e0fd3738",
   "metadata": {},
   "outputs": [
    {
     "name": "stdout",
     "output_type": "stream",
     "text": [
      "   0         1         2    3    4    5    6    7    8         9    ...  \\\n",
      "0  0.0  0.000000  0.000000  0.0  0.0  0.0  0.0  0.0  0.0  0.000000  ...   \n",
      "1  0.0  0.000000  0.000000  0.0  0.0  0.0  0.0  0.0  0.0  0.094541  ...   \n",
      "2  0.0  0.027179  0.081152  0.0  0.0  0.0  0.0  0.0  0.0  0.107016  ...   \n",
      "3  0.0  0.000000  0.000000  0.0  0.0  0.0  0.0  0.0  0.0  0.139222  ...   \n",
      "4  0.0  0.000000  0.000000  0.0  0.0  0.0  0.0  0.0  0.0  0.174903  ...   \n",
      "\n",
      "        990  991       992  993       994  995  996  997  998  999  \n",
      "0  0.000000  0.0  0.000000  0.0  0.000000  0.0  0.0  0.0  0.0  0.0  \n",
      "1  0.000000  0.0  0.000000  0.0  0.000000  0.0  0.0  0.0  0.0  0.0  \n",
      "2  0.085318  0.0  0.000000  0.0  0.074497  0.0  0.0  0.0  0.0  0.0  \n",
      "3  0.000000  0.0  0.205418  0.0  0.000000  0.0  0.0  0.0  0.0  0.0  \n",
      "4  0.000000  0.0  0.206452  0.0  0.073054  0.0  0.0  0.0  0.0  0.0  \n",
      "\n",
      "[5 rows x 1000 columns]\n"
     ]
    }
   ],
   "source": [
    "# Converting the text data into vectors using TF-IDF\n",
    "from sklearn.feature_extraction.text import TfidfVectorizer  \n",
    "from sklearn.preprocessing import LabelEncoder\n",
    "# Generating 1000 features for the input for the model\n",
    "n=1000\n",
    "tfidfconverter = TfidfVectorizer(max_features=n, stop_words=stopwords.words('english')) \n",
    "X = pd.DataFrame(tfidfconverter.fit_transform(df['Text_Data']).toarray())\n",
    "print(X[:5])\n",
    "#X.columns = range(X.shape[1])\n",
    "labelencoder = LabelEncoder() #Converting the labels to numeric labels\n",
    "y = labelencoder.fit_transform(df['Category'])\n"
   ]
  },
  {
   "cell_type": "code",
   "execution_count": 7,
   "id": "9c330432",
   "metadata": {},
   "outputs": [],
   "source": [
    "import pickle\n",
    "pickle.dump(tfidfconverter,open('tf01','wb'))"
   ]
  },
  {
   "cell_type": "code",
   "execution_count": 8,
   "id": "9234b250",
   "metadata": {},
   "outputs": [
    {
     "data": {
      "text/plain": [
       "((141, 1000), (141,))"
      ]
     },
     "execution_count": 8,
     "metadata": {},
     "output_type": "execute_result"
    }
   ],
   "source": [
    "X.shape, y.shape"
   ]
  },
  {
   "cell_type": "code",
   "execution_count": 9,
   "id": "825c7fdb",
   "metadata": {},
   "outputs": [],
   "source": [
    "from sklearn.model_selection import train_test_split \n",
    "X_train, X_test, y_train, y_test = train_test_split(X, y, test_size=0.3, random_state=10) "
   ]
  },
  {
   "cell_type": "code",
   "execution_count": 10,
   "id": "0b62fce6",
   "metadata": {},
   "outputs": [],
   "source": [
    "from imblearn.over_sampling import RandomOverSampler\n",
    "ros = RandomOverSampler(random_state=1)\n",
    "X_resampled, y_resampled = ros.fit_resample(X, y)"
   ]
  },
  {
   "cell_type": "code",
   "execution_count": 11,
   "id": "a91a9acc",
   "metadata": {},
   "outputs": [
    {
     "name": "stdout",
     "output_type": "stream",
     "text": [
      "[[ 0 42]\n",
      " [ 1 42]\n",
      " [ 2 42]\n",
      " [ 3 42]\n",
      " [ 4 42]\n",
      " [ 5 42]]\n"
     ]
    }
   ],
   "source": [
    "import numpy as np\n",
    "unique, counts = np.unique(y_resampled, return_counts=True)\n",
    "print(np.asarray((unique, counts)).T)"
   ]
  },
  {
   "cell_type": "code",
   "execution_count": 12,
   "id": "4a806e83",
   "metadata": {},
   "outputs": [],
   "source": [
    "\n",
    "X_train, X_test, y_train, y_test = train_test_split(X_resampled, y_resampled, test_size=0.2, random_state=10)  "
   ]
  },
  {
   "cell_type": "code",
   "execution_count": 13,
   "id": "39118681",
   "metadata": {},
   "outputs": [
    {
     "data": {
      "text/plain": [
       "array([5, 2, 5, 1, 1, 5, 0, 5, 5, 4, 1, 2, 2, 0, 3, 5, 4, 0, 0, 5, 5, 0,\n",
       "       1, 1, 5, 4, 3, 3, 5, 1, 2, 2, 2, 5, 0, 3, 1, 3, 2, 0, 3, 5, 4, 2,\n",
       "       5, 3, 2, 1, 2, 5, 2])"
      ]
     },
     "execution_count": 13,
     "metadata": {},
     "output_type": "execute_result"
    }
   ],
   "source": [
    "from sklearn.naive_bayes import GaussianNB\n",
    "\n",
    "#Create a Gaussian Classifier\n",
    "clf_nb = GaussianNB()\n",
    "\n",
    "# Train the model using the training sets\n",
    "clf_nb.fit(X_train, y_train)\n",
    "\n",
    "#Predict Output\n",
    "y_pred = clf_nb.predict(X_test)\n",
    "y_pred"
   ]
  },
  {
   "cell_type": "code",
   "execution_count": 14,
   "id": "6b0c1910",
   "metadata": {},
   "outputs": [],
   "source": [
    "import pickle\n",
    "pickle.dump(clf_nb, open('nb.pkl','wb'))"
   ]
  },
  {
   "cell_type": "code",
   "execution_count": 24,
   "id": "89e63c27",
   "metadata": {},
   "outputs": [
    {
     "data": {
      "text/html": [
       "<div>\n",
       "<style scoped>\n",
       "    .dataframe tbody tr th:only-of-type {\n",
       "        vertical-align: middle;\n",
       "    }\n",
       "\n",
       "    .dataframe tbody tr th {\n",
       "        vertical-align: top;\n",
       "    }\n",
       "\n",
       "    .dataframe thead th {\n",
       "        text-align: right;\n",
       "    }\n",
       "</style>\n",
       "<table border=\"1\" class=\"dataframe\">\n",
       "  <thead>\n",
       "    <tr style=\"text-align: right;\">\n",
       "      <th></th>\n",
       "      <th>Data</th>\n",
       "    </tr>\n",
       "  </thead>\n",
       "  <tbody>\n",
       "    <tr>\n",
       "      <th>0</th>\n",
       "      <td>ACCOUNT NUMBER INVOICE DATE INVOICE NUMBER BAR...</td>\n",
       "    </tr>\n",
       "  </tbody>\n",
       "</table>\n",
       "</div>"
      ],
      "text/plain": [
       "                                                Data\n",
       "0  ACCOUNT NUMBER INVOICE DATE INVOICE NUMBER BAR..."
      ]
     },
     "execution_count": 24,
     "metadata": {},
     "output_type": "execute_result"
    }
   ],
   "source": [
    "#Loading the saved model and a random PDF file to test classification\n",
    "\n",
    "from pdf2image import convert_from_path\n",
    "import glob\n",
    "import pytesseract\n",
    "\n",
    "def extractTextFromPDF(pdf_location):\n",
    "    text = \"\"\n",
    "    filename = pdf_location.split('/')[::-1][0]\n",
    "    pdfs = glob.glob(pdf_location)\n",
    "    for pdf_path in pdfs:\n",
    "        pages = convert_from_path(pdf_path, 500, poppler_path = r'E:\\ocr\\poppler-0.68.0\\bin')\n",
    "\n",
    "        for pageNum,imgBlob in enumerate(pages):\n",
    "            text_per_page = pytesseract.image_to_string(imgBlob, lang='eng')\n",
    "            text += text_per_page + \" \"\n",
    "    \n",
    "    return (\" \".join(text.split())).strip(), filename\n",
    "        \n",
    "text_string, filename = extractTextFromPDF(\"18.pdf\")\n",
    "\n",
    "dfdemo = pd.DataFrame({\"Data\" : [text_string]})\n",
    "savedmodel = pickle.load(open('nb.pkl','rb'))\n",
    "dfdemo"
   ]
  },
  {
   "cell_type": "code",
   "execution_count": 25,
   "id": "b629d479",
   "metadata": {},
   "outputs": [
    {
     "name": "stderr",
     "output_type": "stream",
     "text": [
      "C:\\Users\\Krupal\\AppData\\Local\\Temp\\ipykernel_4284\\3895234543.py:4: FutureWarning: The default value of regex will change from True to False in a future version.\n",
      "  dfdemo['Data'] = dfdemo['Data'].str.replace('[^\\w\\s]','') # getting rid of special characters\n",
      "C:\\Users\\Krupal\\AppData\\Local\\Temp\\ipykernel_4284\\3895234543.py:5: FutureWarning: The default value of regex will change from True to False in a future version.\n",
      "  dfdemo['Data'] = dfdemo['Data'].str.replace('\\d+', '') # removing numeric values from between the words\n"
     ]
    }
   ],
   "source": [
    "# Feature engineering to get the data in right format\n",
    "\n",
    "dfdemo['Data'] = dfdemo['Data'].apply(lambda x: \" \".join(x.lower() for x in x.split())) # lower case conversion\n",
    "dfdemo['Data'] = dfdemo['Data'].str.replace('[^\\w\\s]','') # getting rid of special characters\n",
    "dfdemo['Data'] = dfdemo['Data'].str.replace('\\d+', '') # removing numeric values from between the words\n",
    "dfdemo['Data'] = dfdemo['Data'].apply(lambda x: x.translate(string.digits)) # removing numerical numbers\n",
    "stop = stopwords.words('english')\n",
    "dfdemo['Data'] = dfdemo['Data'].apply(lambda x: \" \".join(x for x in x.split() if x not in stop)) #removing stop words\n",
    "stemmer = WordNetLemmatizer()\n",
    "dfdemo['Data'] = [stemmer.lemmatize(word) for word in dfdemo['Data']]"
   ]
  },
  {
   "cell_type": "code",
   "execution_count": 26,
   "id": "3f8b5b81",
   "metadata": {},
   "outputs": [
    {
     "data": {
      "text/html": [
       "<div>\n",
       "<style scoped>\n",
       "    .dataframe tbody tr th:only-of-type {\n",
       "        vertical-align: middle;\n",
       "    }\n",
       "\n",
       "    .dataframe tbody tr th {\n",
       "        vertical-align: top;\n",
       "    }\n",
       "\n",
       "    .dataframe thead th {\n",
       "        text-align: right;\n",
       "    }\n",
       "</style>\n",
       "<table border=\"1\" class=\"dataframe\">\n",
       "  <thead>\n",
       "    <tr style=\"text-align: right;\">\n",
       "      <th></th>\n",
       "      <th>0</th>\n",
       "      <th>1</th>\n",
       "      <th>2</th>\n",
       "      <th>3</th>\n",
       "      <th>4</th>\n",
       "      <th>5</th>\n",
       "      <th>6</th>\n",
       "      <th>7</th>\n",
       "      <th>8</th>\n",
       "      <th>9</th>\n",
       "      <th>...</th>\n",
       "      <th>990</th>\n",
       "      <th>991</th>\n",
       "      <th>992</th>\n",
       "      <th>993</th>\n",
       "      <th>994</th>\n",
       "      <th>995</th>\n",
       "      <th>996</th>\n",
       "      <th>997</th>\n",
       "      <th>998</th>\n",
       "      <th>999</th>\n",
       "    </tr>\n",
       "  </thead>\n",
       "  <tbody>\n",
       "    <tr>\n",
       "      <th>0</th>\n",
       "      <td>0.0</td>\n",
       "      <td>0.0</td>\n",
       "      <td>0.0</td>\n",
       "      <td>0.0</td>\n",
       "      <td>0.0</td>\n",
       "      <td>0.0</td>\n",
       "      <td>0.0</td>\n",
       "      <td>0.0</td>\n",
       "      <td>0.0</td>\n",
       "      <td>0.039417</td>\n",
       "      <td>...</td>\n",
       "      <td>0.0</td>\n",
       "      <td>0.0</td>\n",
       "      <td>0.0</td>\n",
       "      <td>0.0</td>\n",
       "      <td>0.0</td>\n",
       "      <td>0.0</td>\n",
       "      <td>0.0</td>\n",
       "      <td>0.0</td>\n",
       "      <td>0.0</td>\n",
       "      <td>0.0</td>\n",
       "    </tr>\n",
       "  </tbody>\n",
       "</table>\n",
       "<p>1 rows × 1000 columns</p>\n",
       "</div>"
      ],
      "text/plain": [
       "   0    1    2    3    4    5    6    7    8         9    ...  990  991  992  \\\n",
       "0  0.0  0.0  0.0  0.0  0.0  0.0  0.0  0.0  0.0  0.039417  ...  0.0  0.0  0.0   \n",
       "\n",
       "   993  994  995  996  997  998  999  \n",
       "0  0.0  0.0  0.0  0.0  0.0  0.0  0.0  \n",
       "\n",
       "[1 rows x 1000 columns]"
      ]
     },
     "execution_count": 26,
     "metadata": {},
     "output_type": "execute_result"
    }
   ],
   "source": [
    "tfidfconverter = pickle.load(open('tf01','rb'))\n",
    "inputs = pd.DataFrame(tfidfconverter.transform(dfdemo['Data']).toarray())\n",
    "inputs"
   ]
  },
  {
   "cell_type": "code",
   "execution_count": 27,
   "id": "4c08f14c",
   "metadata": {},
   "outputs": [
    {
     "data": {
      "text/plain": [
       "array(['invoices'], dtype=object)"
      ]
     },
     "execution_count": 27,
     "metadata": {},
     "output_type": "execute_result"
    }
   ],
   "source": [
    "\n",
    "output_category = savedmodel.predict(inputs)\n",
    "#Comment the next line if you are testing word2vec model as it doesn't require transformation\n",
    "output_category = (labelencoder.inverse_transform((output_category)))\n",
    "output_category"
   ]
  },
  {
   "cell_type": "code",
   "execution_count": 2,
   "id": "dab1cc75",
   "metadata": {},
   "outputs": [],
   "source": [
    "import os\n",
    "old_name = \"2.pdf\"\n",
    "new_name = \"invoice.pdf\"\n",
    "os.rename(old_name, new_name)"
   ]
  },
  {
   "cell_type": "code",
   "execution_count": null,
   "id": "5a55959e",
   "metadata": {},
   "outputs": [],
   "source": []
  }
 ],
 "metadata": {
  "kernelspec": {
   "display_name": "Python 3 (ipykernel)",
   "language": "python",
   "name": "python3"
  },
  "language_info": {
   "codemirror_mode": {
    "name": "ipython",
    "version": 3
   },
   "file_extension": ".py",
   "mimetype": "text/x-python",
   "name": "python",
   "nbconvert_exporter": "python",
   "pygments_lexer": "ipython3",
   "version": "3.9.7"
  }
 },
 "nbformat": 4,
 "nbformat_minor": 5
}
